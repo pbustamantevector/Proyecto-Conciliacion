{
 "cells": [
  {
   "cell_type": "markdown",
   "id": "a30e98ff-daf1-4466-8ca0-0501b0fb324d",
   "metadata": {},
   "source": [
    "### Librerías"
   ]
  },
  {
   "cell_type": "code",
   "execution_count": 1,
   "id": "ac74d25a-390a-4bfe-a8e8-68b3d724037a",
   "metadata": {},
   "outputs": [],
   "source": [
    "import pandas as pd\n",
    "import numpy as np\n",
    "import bcchapi\n",
    "from datetime import timedelta\n",
    "from datetime import datetime\n",
    "import re\n",
    "import xlrd\n",
    "import openpyxl\n",
    "import os\n",
    "import pyodbc"
   ]
  },
  {
   "cell_type": "markdown",
   "id": "8337c7ac",
   "metadata": {},
   "source": [
    "### API BDE"
   ]
  },
  {
   "cell_type": "code",
   "execution_count": 2,
   "id": "20fc64a7",
   "metadata": {},
   "outputs": [],
   "source": [
    "siete = bcchapi.Siete(\"pbustamante@vectorcapital.cl\", \"Vector.2025\")\n",
    "fecha_hoy = datetime.today().strftime('%Y-%m-%d')\n",
    "\n",
    "## EURO\n",
    "df_euro_obs = siete.cuadro(\n",
    "series=[\"F072.CLP.EUR.N.O.D\"],\n",
    "nombres = [\"euro\"],\n",
    "desde=\"2025-01-01\",\n",
    "hasta=fecha_hoy)\n",
    "\n",
    "df_euro_obs = df_euro_obs.reset_index()\n",
    "df_euro_obs.columns = ['Fecha', 'Euro TC']\n",
    "df_euro_obs[\"Fecha\"] = pd.to_datetime(df_euro_obs[\"Fecha\"]).dt.strftime(\"%d-%m-%Y\")\n",
    "\n",
    "### USD\n",
    "df_dolar_obs = siete.cuadro(\n",
    "series=[\"F073.TCO.PRE.Z.D\"],\n",
    "nombres = [\"dolar\"],\n",
    "desde=\"2025-01-01\",\n",
    "hasta=fecha_hoy)\n",
    "df_dolar_obs = df_dolar_obs.reset_index()\n",
    "df_dolar_obs.columns = ['Fecha', 'Dolar TC']\n",
    "df_dolar_obs[\"Fecha\"] = pd.to_datetime(df_dolar_obs[\"Fecha\"]).dt.strftime(\"%d-%m-%Y\")"
   ]
  },
  {
   "cell_type": "markdown",
   "id": "10ae9be1",
   "metadata": {},
   "source": [
    "### FBICE"
   ]
  },
  {
   "cell_type": "code",
   "execution_count": 3,
   "id": "75e28278",
   "metadata": {},
   "outputs": [],
   "source": [
    "def extraer_año_desde_encabezado_BICE(texto_columna):\n",
    "    \"\"\"Extrae el año desde el texto del encabezado (antes del símbolo '|')\"\"\"\n",
    "    before_pipe = re.split(r'\\|', texto_columna)[0].strip()\n",
    "    match = re.search(r'\\b(\\d{4})\\b', before_pipe)\n",
    "    return match.group(1) if match else \"\"\n",
    "\n",
    "def cargar_cartola_bice(ruta_archivo, tipo_mon='clp', df_euro_obs=None):\n",
    "    df = pd.read_excel(ruta_archivo)\n",
    "    text = df.columns[0]\n",
    "    year = extraer_año_desde_encabezado_BICE(text)\n",
    "    \n",
    "    # CLEAN ENTRADA y SALIDA\n",
    "    df = df.iloc[9:]\n",
    "    df.columns = df.iloc[0]\n",
    "    df = df.iloc[2:].reset_index(drop=True)\n",
    "    first_empty_index = df[df.isnull().all(axis=1)].index.min() # SALIDA\n",
    "    if pd.notna(first_empty_index):\n",
    "        df = df.iloc[:first_empty_index]\n",
    "    # Fix fecha (completar y agregar año) y formatear dd-mm-yyyy; sacar col saldo contable\n",
    "    df[\"Fecha\"] = df[\"Fecha\"].replace(\"-\", pd.NA).ffill()\n",
    "    df[\"Fecha\"] = df[\"Fecha\"].astype(str).str.strip() + \"-\" + year\n",
    "    df[\"Fecha\"] = pd.to_datetime(df[\"Fecha\"], format=\"%d-%m-%Y\", errors=\"coerce\")\n",
    "    df[\"Fecha\"] = df[\"Fecha\"].dt.strftime(\"%d-%m-%Y\")\n",
    "    if 'Saldo Contable' in df.columns:\n",
    "        del df['Saldo Contable']\n",
    "    # Si tipo_mon = 'eur', unir con tipo de cambio y convertir\n",
    "    if tipo_mon.lower() == 'eur':\n",
    "        if df_euro_obs is None:\n",
    "            raise ValueError(\"Debe proporcionar df_euro_obs cuando tipo_mon es 'eur'\")\n",
    "\n",
    "        df = pd.merge(df, df_euro_obs, how='left', on='Fecha')\n",
    "\n",
    "        # a numéricos y nuevos campos\n",
    "        df['Cargos'] = pd.to_numeric(df['Cargos'], errors='coerce')\n",
    "        df['Abonos'] = pd.to_numeric(df['Abonos'], errors='coerce')\n",
    "        df['Euro TC'] = pd.to_numeric(df['Euro TC'], errors='coerce')\n",
    "        df['Cargos Moneda de Origen'] = df['Cargos'] / df['Euro TC']\n",
    "        df['Abono Moneda de Origen'] = df['Abonos'] / df['Euro TC']\n",
    "\n",
    "    return df"
   ]
  },
  {
   "cell_type": "markdown",
   "id": "50902f8c",
   "metadata": {},
   "source": [
    "### CARTOLAS"
   ]
  },
  {
   "cell_type": "code",
   "execution_count": 4,
   "id": "60d7acca",
   "metadata": {},
   "outputs": [],
   "source": [
    "ruta_dir = r\"Y:\\Cartolas bancarias Contabilidad\\2025\\Mayo 2025\\BICE\\BICE 01-35659-3\"\n",
    "archivos = os.listdir(ruta_dir)\n",
    "archivos_xlsx = [f for f in archivos if f.lower().endswith('.xlsx') and os.path.isfile(os.path.join(ruta_dir, f))]\n",
    "\n",
    "dfs = []\n",
    "for archivo in archivos_xlsx:\n",
    "    ruta_archivo = os.path.join(ruta_dir, archivo)\n",
    "    df = cargar_cartola_bice(ruta_archivo, tipo_mon='clp')\n",
    "    dfs.append(df)\n",
    "\n",
    "cartola_clp_RACIONAL = pd.concat(dfs, ignore_index=True)"
   ]
  },
  {
   "attachments": {
    "image.png": {
     "image/png": "[encoded data removed]"
    }
   },
   "cell_type": "markdown",
   "id": "b6175f18",
   "metadata": {},
   "source": [
    "![image.png](attachment:image.png)"
   ]
  },
  {
   "cell_type": "code",
   "execution_count": 5,
   "id": "f8c84677",
   "metadata": {},
   "outputs": [],
   "source": [
    "df_to_rut = cartola_clp_RACIONAL\n",
    "\n",
    "# General\n",
    "def extraer_rut(texto, n=1):\n",
    "    \"\"\"\n",
    "    Extrae el n-ésimo RUT chileno del texto (por defecto el primero).\n",
    "    Si no encuentra, retorna None.\n",
    "    \"\"\"\n",
    "    # Busca todos los RUTs con 7 u 8 dígitos, guion y dígito/K\n",
    "    ruts = re.findall(r'(\\d{7,8}-[0-9Kk])', texto.replace('.', ''))\n",
    "    if len(ruts) >= n:\n",
    "        return ruts[n-1].upper()\n",
    "    return None\n",
    "\n",
    "# Ejemplo: para extraer el primer RUT\n",
    "df_to_rut['IDENTIFICADOR'] = df_to_rut['Descripción'].apply(lambda x: extraer_rut(str(x), n=1))\n",
    "\n",
    "# Extrae el RUT desde cualquier parte de la descripción\n",
    "df_to_rut['IDENTIFICADOR'] = df_to_rut['Descripción'].apply(lambda x: extraer_rut(str(x)))\n",
    "\n",
    "# Excepción\n",
    "cond_excepcional = df_to_rut['Descripción'].str.contains(r'^Transf\\. via Internet a cuenta .*desde VECTOR CAPITAL CORREDORES DE BOLSA SPA', regex=True)\n",
    "df_to_rut.loc[cond_excepcional, 'IDENTIFICADOR'] = '076513680-6'\n",
    "\n",
    "# Excepción\n",
    "cond_excepcional = df_to_rut['Descripción'].str.contains(r'^Transf\\. via Internet a cuenta .*desde VECTOR CAPITAL CORREDORES DE BOLSA SPA', regex=True)\n",
    "df_to_rut.loc[cond_excepcional, 'IDENTIFICADOR'] = '076513680-6'\n",
    "df_to_rut['IDENTIFICADOR'] = df_to_rut['IDENTIFICADOR'].str.replace('.', '', regex=False)\n",
    "\n",
    "## Extraer hora depósito para el match con dashboard RC\n",
    "def extraer_fecha_hora(texto):\n",
    "    match = re.search(r'(\\d{2}/\\d{2}/\\d{4})\\s*a\\s*las\\s*(\\d{2}:\\d{2})', str(texto))\n",
    "    if match:\n",
    "        return f\"{match.group(1)} {match.group(2)}\"\n",
    "    return None\n",
    "\n",
    "df_to_rut['Fecha_transferencia'] = df_to_rut['Descripción'].apply(extraer_fecha_hora)\n",
    "df_to_rut['Fecha_transferencia'] = pd.to_datetime(df_to_rut['Fecha_transferencia'], format='%d/%m/%Y %H:%M')\n",
    "df_to_rut['Fecha_transferencia'] = df_to_rut['Fecha_transferencia'].dt.strftime('%d-%m-%Y %H:%M')"
   ]
  },
  {
   "cell_type": "markdown",
   "id": "560909da",
   "metadata": {},
   "source": [
    "Debug"
   ]
  },
  {
   "cell_type": "code",
   "execution_count": 6,
   "id": "608280c7",
   "metadata": {},
   "outputs": [
    {
     "data": {
      "text/html": [
       "<div>\n",
       "<style scoped>\n",
       "    .dataframe tbody tr th:only-of-type {\n",
       "        vertical-align: middle;\n",
       "    }\n",
       "\n",
       "    .dataframe tbody tr th {\n",
       "        vertical-align: top;\n",
       "    }\n",
       "\n",
       "    .dataframe thead th {\n",
       "        text-align: right;\n",
       "    }\n",
       "</style>\n",
       "<table border=\"1\" class=\"dataframe\">\n",
       "  <thead>\n",
       "    <tr style=\"text-align: right;\">\n",
       "      <th>9</th>\n",
       "      <th>Fecha</th>\n",
       "      <th>Documento</th>\n",
       "      <th>Descripción</th>\n",
       "      <th>Cargos</th>\n",
       "      <th>Abonos</th>\n",
       "      <th>IDENTIFICADOR</th>\n",
       "      <th>Fecha_transferencia</th>\n",
       "    </tr>\n",
       "  </thead>\n",
       "  <tbody>\n",
       "    <tr>\n",
       "      <th>6844</th>\n",
       "      <td>05-05-2025</td>\n",
       "      <td>62450718</td>\n",
       "      <td>Abono por transferencia de SUSANA ELIZABETH GA...</td>\n",
       "      <td>0</td>\n",
       "      <td>280000</td>\n",
       "      <td>10003374-7</td>\n",
       "      <td>05-05-2025 10:22</td>\n",
       "    </tr>\n",
       "    <tr>\n",
       "      <th>10867</th>\n",
       "      <td>09-05-2025</td>\n",
       "      <td>65948282</td>\n",
       "      <td>Abono por transferencia de SUSANA ELIZABETH GA...</td>\n",
       "      <td>0</td>\n",
       "      <td>320000</td>\n",
       "      <td>10003374-7</td>\n",
       "      <td>09-05-2025 10:20</td>\n",
       "    </tr>\n",
       "    <tr>\n",
       "      <th>11015</th>\n",
       "      <td>09-05-2025</td>\n",
       "      <td>65880325</td>\n",
       "      <td>Abono por transferencia de SUSANA ELIZABETH GA...</td>\n",
       "      <td>0</td>\n",
       "      <td>1000000</td>\n",
       "      <td>10003374-7</td>\n",
       "      <td>09-05-2025 08:52</td>\n",
       "    </tr>\n",
       "    <tr>\n",
       "      <th>25360</th>\n",
       "      <td>28-05-2025</td>\n",
       "      <td>78110610</td>\n",
       "      <td>Abono por transferencia de SUSANA ELIZABETH GA...</td>\n",
       "      <td>0</td>\n",
       "      <td>500000</td>\n",
       "      <td>10003374-7</td>\n",
       "      <td>28-05-2025 11:28</td>\n",
       "    </tr>\n",
       "  </tbody>\n",
       "</table>\n",
       "</div>"
      ],
      "text/plain": [
       "9           Fecha Documento  \\\n",
       "6844   05-05-2025  62450718   \n",
       "10867  09-05-2025  65948282   \n",
       "11015  09-05-2025  65880325   \n",
       "25360  28-05-2025  78110610   \n",
       "\n",
       "9                                            Descripción Cargos   Abonos  \\\n",
       "6844   Abono por transferencia de SUSANA ELIZABETH GA...      0   280000   \n",
       "10867  Abono por transferencia de SUSANA ELIZABETH GA...      0   320000   \n",
       "11015  Abono por transferencia de SUSANA ELIZABETH GA...      0  1000000   \n",
       "25360  Abono por transferencia de SUSANA ELIZABETH GA...      0   500000   \n",
       "\n",
       "9     IDENTIFICADOR Fecha_transferencia  \n",
       "6844     10003374-7    05-05-2025 10:22  \n",
       "10867    10003374-7    09-05-2025 10:20  \n",
       "11015    10003374-7    09-05-2025 08:52  \n",
       "25360    10003374-7    28-05-2025 11:28  "
      ]
     },
     "execution_count": 6,
     "metadata": {},
     "output_type": "execute_result"
    }
   ],
   "source": [
    "df_to_rut[df_to_rut['IDENTIFICADOR'] == '10003374-7'] "
   ]
  },
  {
   "cell_type": "markdown",
   "id": "903ef543",
   "metadata": {},
   "source": [
    "### QRY"
   ]
  },
  {
   "cell_type": "code",
   "execution_count": 7,
   "id": "f5f6f77f",
   "metadata": {},
   "outputs": [
    {
     "name": "stderr",
     "output_type": "stream",
     "text": [
      "C:\\Users\\Francisco Betancour\\AppData\\Local\\Temp\\ipykernel_10600\\789851610.py:35: UserWarning: pandas only supports SQLAlchemy connectable (engine/connection) or database string URI or sqlite3 DBAPI2 connection. Other DBAPI2 objects are not tested. Please consider using SQLAlchemy.\n",
      "  df_APORET_detalle = pd.read_sql(query_universal['query_APORET'], conn)\n"
     ]
    }
   ],
   "source": [
    "F_i  = '2025-04-29'\n",
    "F    = '2025-06-02' \n",
    "\n",
    "query_universal = {\n",
    "\n",
    "        'query_APORET': f\"\"\"\n",
    "        SELECT \n",
    "               CARGO_ABONO, \n",
    "               NUM_CUENTA, \n",
    "               IDENTIFICADOR,\n",
    "               NOMBRE_CLI, \n",
    "               COD_MOV, \n",
    "               DSC_MOV_CAJA, \n",
    "               FECHA_MOVIMIENTO,\n",
    "               FECHA_LIQUIDACION, \n",
    "               MONTO, \n",
    "               NOMBRE_ASESOR, \n",
    "               TIPO_CAJA,\n",
    "               MOV_AUTOMATICO,\n",
    "               OBS_MOV_CAJA\n",
    "\n",
    "        FROM [Capitaria].[dbo].[MOV_CAJA_CLI_JGG]\n",
    "        WHERE COD_MOV IN (\n",
    "            'APO_PAT',\n",
    "            'APO_PAT_AT',\n",
    "            'APO_PAT_BT',\n",
    "            'APO_PAT_LI',\n",
    "            'APO_PAT_RC'\n",
    "            )\n",
    "        AND FECHA_MOVIMIENTO BETWEEN CONVERT(datetime, '{F_i}', 120) AND CONVERT(datetime, '{F}', 120)\n",
    "        \"\"\"\n",
    "}\n",
    "\n",
    "conn = pyodbc.connect('DRIVER={SQL Server};SERVER=tcp:mi-sql-prd-002.5bf1e89c8cf2.database.windows.net;DATABASE=capitaria;UID=pablobustamante;PWD=S3cur3!PassPB5sta#2024')\n",
    "df_APORET_detalle = pd.read_sql(query_universal['query_APORET'], conn)\n",
    "conn.close()"
   ]
  },
  {
   "cell_type": "code",
   "execution_count": 8,
   "id": "8643a528",
   "metadata": {},
   "outputs": [
    {
     "name": "stderr",
     "output_type": "stream",
     "text": [
      "C:\\Users\\Francisco Betancour\\AppData\\Local\\Temp\\ipykernel_10600\\407170479.py:6: SettingWithCopyWarning: \n",
      "A value is trying to be set on a copy of a slice from a DataFrame.\n",
      "Try using .loc[row_indexer,col_indexer] = value instead\n",
      "\n",
      "See the caveats in the documentation: https://pandas.pydata.org/pandas-docs/stable/user_guide/indexing.html#returning-a-view-versus-a-copy\n",
      "  df_to_rut['Fecha'] = pd.to_datetime(df_to_rut['Fecha'], format='%d-%m-%Y', errors='coerce')\n"
     ]
    },
    {
     "data": {
      "text/plain": [
       "\"# Exporta a Excel\\nwith pd.ExcelWriter('Temporal/ViernesCartolaGPI_realmatch10.xlsx') as writer:\\n    df_match.to_excel(writer, sheet_name='Match', index=False)\\n    df_to_rut.to_excel(writer, sheet_name='Cartola', index=False)\\n    df_APORET_detalle.to_excel(writer, sheet_name='GPI', index=False)\\n    no_match_cartola.to_excel(writer, sheet_name='No_Match_CARTOLA', index=False)\\n    no_match_aporet.to_excel(writer, sheet_name='No_Match_APORET', index=False)\""
      ]
     },
     "execution_count": 8,
     "metadata": {},
     "output_type": "execute_result"
    }
   ],
   "source": [
    "## FILTRAR CARTOLA\n",
    "# Filtrar solo depósitos (Abonos > 0) y que IDENTIFICADOR no sea vacío ni nulo\n",
    "df_to_rut = df_to_rut[(df_to_rut['Abonos'] > 0) & (df_to_rut['IDENTIFICADOR'].notna()) & (df_to_rut['IDENTIFICADOR'].str.strip() != '')]\n",
    "\n",
    "# Asegura que las fechas sean datetime\n",
    "df_to_rut['Fecha'] = pd.to_datetime(df_to_rut['Fecha'], format='%d-%m-%Y', errors='coerce')\n",
    "df_APORET_detalle['FECHA_MOVIMIENTO'] = pd.to_datetime(df_APORET_detalle['FECHA_MOVIMIENTO'], errors='coerce')\n",
    "\n",
    "# Ordena ambos DataFrames por IDENTIFICADOR, MONTO/Abonos y fecha\n",
    "df_to_rut = df_to_rut.sort_values(['IDENTIFICADOR', 'Abonos', 'Fecha'])\n",
    "df_APORET_detalle = df_APORET_detalle.sort_values(['IDENTIFICADOR', 'MONTO', 'FECHA_MOVIMIENTO'])\n",
    "\n",
    "# Normaliza los montos a float y luego a int para evitar diferencias por decimales\n",
    "df_to_rut['Abonos'] = pd.to_numeric(df_to_rut['Abonos'], errors='coerce').fillna(0).astype(int)\n",
    "df_APORET_detalle['MONTO'] = pd.to_numeric(df_APORET_detalle['MONTO'], errors='coerce').fillna(0).astype(int)\n",
    "\n",
    "# ---- Rut k to K\n",
    "df_to_rut['IDENTIFICADOR'] = df_to_rut['IDENTIFICADOR'].str.upper()\n",
    "df_APORET_detalle['IDENTIFICADOR'] = df_APORET_detalle['IDENTIFICADOR'].str.upper()\n",
    "\n",
    "# Ahora crea la clave\n",
    "df_to_rut['clave'] = df_to_rut['IDENTIFICADOR'].astype(str) + '_' + df_to_rut['Abonos'].astype(str)\n",
    "df_APORET_detalle['clave'] = df_APORET_detalle['IDENTIFICADOR'].astype(str) + '_' + df_APORET_detalle['MONTO'].astype(str)\n",
    "\n",
    "# mod\n",
    "df_to_rut = df_to_rut.reset_index().rename(columns={'index': 'idx_cartola'})\n",
    "\n",
    "\n",
    "# Para cada fila de df_to_rut, busca el match más cercano en fecha en df_APORET_detalle\n",
    "resultados = []\n",
    "usados = set()\n",
    "\n",
    "for idx, row in df_to_rut.iterrows():\n",
    "    candidatos = df_APORET_detalle[df_APORET_detalle['clave'] == row['clave']]\n",
    "    if not candidatos.empty:\n",
    "        # Calcula la diferencia absoluta de días\n",
    "        candidatos = candidatos.assign(diff_days=(candidatos['FECHA_MOVIMIENTO'] - row['Fecha']).abs())\n",
    "        # Elige el más cercano que no haya sido usado\n",
    "        candidatos = candidatos[~candidatos.index.isin(usados)]\n",
    "        if not candidatos.empty:\n",
    "            elegido = candidatos.loc[candidatos['diff_days'].idxmin()]\n",
    "            usados.add(elegido.name)\n",
    "            merged_row = {**row, **elegido}\n",
    "            resultados.append(merged_row)\n",
    "        else:\n",
    "            # No hay candidatos disponibles (ya usados)\n",
    "            merged_row = {**row}\n",
    "            for col in df_APORET_detalle.columns:\n",
    "                if col not in merged_row:\n",
    "                    merged_row[col] = np.nan\n",
    "            resultados.append(merged_row)\n",
    "    else:\n",
    "        # No hay candidatos\n",
    "        merged_row = {**row}\n",
    "        for col in df_APORET_detalle.columns:\n",
    "            if col not in merged_row:\n",
    "                merged_row[col] = np.nan\n",
    "        resultados.append(merged_row)\n",
    "\n",
    "df_match = pd.DataFrame(resultados)\n",
    "\n",
    "# ---- Solo dejar movimientos realmente matcheados (ambos lados tienen datos)\n",
    "df_match = df_match[df_match['MONTO'].notna()]\n",
    "# No match en cartola: los que no lograron match en GPI\n",
    "no_match_cartola = df_to_rut[~df_to_rut['idx_cartola'].isin(df_match['idx_cartola'])]\n",
    "\n",
    "# No match en APORET (los que no fueron usados)\n",
    "no_match_aporet = df_APORET_detalle[~df_APORET_detalle.index.isin(usados)]\n",
    "\n",
    "\"\"\"# Exporta a Excel\n",
    "with pd.ExcelWriter('Temporal/ViernesCartolaGPI_realmatch10.xlsx') as writer:\n",
    "    df_match.to_excel(writer, sheet_name='Match', index=False)\n",
    "    df_to_rut.to_excel(writer, sheet_name='Cartola', index=False)\n",
    "    df_APORET_detalle.to_excel(writer, sheet_name='GPI', index=False)\n",
    "    no_match_cartola.to_excel(writer, sheet_name='No_Match_CARTOLA', index=False)\n",
    "    no_match_aporet.to_excel(writer, sheet_name='No_Match_APORET', index=False)\"\"\""
   ]
  },
  {
   "cell_type": "markdown",
   "id": "2153fa16",
   "metadata": {},
   "source": [
    "### Dashboard"
   ]
  },
  {
   "cell_type": "code",
   "execution_count": 9,
   "id": "5f7a5a6a",
   "metadata": {},
   "outputs": [
    {
     "name": "stderr",
     "output_type": "stream",
     "text": [
      "C:\\Users\\Francisco Betancour\\AppData\\Local\\Temp\\ipykernel_10600\\3499700800.py:21: UserWarning: Could not infer format, so each element will be parsed individually, falling back to `dateutil`. To ensure parsing is consistent and as-expected, please specify a format.\n",
      "  Dashboard_Mayo['Fecha_normalizada'] = pd.to_datetime(Dashboard_Mayo['Fecha'], errors='coerce')\n"
     ]
    }
   ],
   "source": [
    "Dashboard_Mayo = pd.read_excel(\"Input/Dashboard_Mayo.xlsx\")\n",
    "\n",
    "def format_rut_column(df, col='rut'):\n",
    "    df[col] = df[col].astype(str).str.replace(r'(\\d+)(\\d{1})$', r'\\1-\\2', regex=True)\n",
    "    return df\n",
    "Dashboard_Mayo = format_rut_column(Dashboard_Mayo, col='rut')\n",
    "\n",
    "## Formatear \n",
    "Dashboard_Mayo['Cargos'] = np.where(Dashboard_Mayo['transactionType'] == 'withdrawal', Dashboard_Mayo['amountCLP'], 0)\n",
    "Dashboard_Mayo['Abonos'] = np.where(Dashboard_Mayo['transactionType'] == 'deposit', Dashboard_Mayo['amountCLP'], 0)\n",
    "\n",
    "del Dashboard_Mayo['amountCLP']\n",
    "del Dashboard_Mayo['id']\n",
    "del Dashboard_Mayo['transactionType']\n",
    "\n",
    "Dashboard_Mayo = Dashboard_Mayo.rename(columns={\n",
    "    'rut': 'IDENTIFICADOR',\n",
    "    'createdAtLocal': 'Fecha'})\n",
    "\n",
    "\n",
    "Dashboard_Mayo['Fecha_normalizada'] = pd.to_datetime(Dashboard_Mayo['Fecha'], errors='coerce')\n",
    "Dashboard_Mayo['Fecha_normalizada'] = Dashboard_Mayo['Fecha_normalizada'].dt.strftime('%Y-%m-%d')\n",
    "Dashboard_Mayo['Cargos'] = pd.to_numeric(Dashboard_Mayo['Cargos'], errors='coerce')\n",
    "Dashboard_Mayo['Abonos'] = pd.to_numeric(Dashboard_Mayo['Abonos'], errors='coerce')\n",
    "\n",
    "def formatear_identificador(df, col='IDENTIFICADOR'):\n",
    "    df[col] = (\n",
    "        df[col]\n",
    "        .astype(str)\n",
    "        .str.replace(r'[^0-9kK]', '', regex=True)  # Elimina caracteres no válidos\n",
    "        .str.upper()  # Convierte la K a mayúscula\n",
    "        .str.replace(r'(\\d+)([0-9K])$', r'\\1-\\2', regex=True)  # Agrega el guion antes del último dígito/letra\n",
    "    )\n",
    "    return df\n",
    "\n",
    "Dashboard_Mayo = formatear_identificador(Dashboard_Mayo, col='IDENTIFICADOR')"
   ]
  },
  {
   "cell_type": "code",
   "execution_count": 10,
   "id": "627557fd",
   "metadata": {},
   "outputs": [
    {
     "data": {
      "text/html": [
       "<div>\n",
       "<style scoped>\n",
       "    .dataframe tbody tr th:only-of-type {\n",
       "        vertical-align: middle;\n",
       "    }\n",
       "\n",
       "    .dataframe tbody tr th {\n",
       "        vertical-align: top;\n",
       "    }\n",
       "\n",
       "    .dataframe thead th {\n",
       "        text-align: right;\n",
       "    }\n",
       "</style>\n",
       "<table border=\"1\" class=\"dataframe\">\n",
       "  <thead>\n",
       "    <tr style=\"text-align: right;\">\n",
       "      <th></th>\n",
       "      <th>IDENTIFICADOR</th>\n",
       "      <th>Fecha</th>\n",
       "      <th>Cargos</th>\n",
       "      <th>Abonos</th>\n",
       "      <th>Fecha_normalizada</th>\n",
       "    </tr>\n",
       "  </thead>\n",
       "  <tbody>\n",
       "    <tr>\n",
       "      <th>0</th>\n",
       "      <td>10003374-7</td>\n",
       "      <td>May 5, 2025, 10:22:36 AM</td>\n",
       "      <td>0</td>\n",
       "      <td>280000</td>\n",
       "      <td>2025-05-05</td>\n",
       "    </tr>\n",
       "    <tr>\n",
       "      <th>1</th>\n",
       "      <td>10003374-7</td>\n",
       "      <td>May 9, 2025, 8:52:03 AM</td>\n",
       "      <td>0</td>\n",
       "      <td>1000000</td>\n",
       "      <td>2025-05-09</td>\n",
       "    </tr>\n",
       "    <tr>\n",
       "      <th>2</th>\n",
       "      <td>10003374-7</td>\n",
       "      <td>May 9, 2025, 10:20:09 AM</td>\n",
       "      <td>0</td>\n",
       "      <td>320000</td>\n",
       "      <td>2025-05-09</td>\n",
       "    </tr>\n",
       "    <tr>\n",
       "      <th>3</th>\n",
       "      <td>10003374-7</td>\n",
       "      <td>May 16, 2025, 9:38:44 AM</td>\n",
       "      <td>217206</td>\n",
       "      <td>0</td>\n",
       "      <td>2025-05-16</td>\n",
       "    </tr>\n",
       "    <tr>\n",
       "      <th>4</th>\n",
       "      <td>10003374-7</td>\n",
       "      <td>May 28, 2025, 10:08:39 AM</td>\n",
       "      <td>309824</td>\n",
       "      <td>0</td>\n",
       "      <td>2025-05-28</td>\n",
       "    </tr>\n",
       "    <tr>\n",
       "      <th>5</th>\n",
       "      <td>10003374-7</td>\n",
       "      <td>May 28, 2025, 11:28:10 AM</td>\n",
       "      <td>0</td>\n",
       "      <td>500000</td>\n",
       "      <td>2025-05-28</td>\n",
       "    </tr>\n",
       "  </tbody>\n",
       "</table>\n",
       "</div>"
      ],
      "text/plain": [
       "  IDENTIFICADOR                      Fecha  Cargos   Abonos Fecha_normalizada\n",
       "0    10003374-7   May 5, 2025, 10:22:36 AM       0   280000        2025-05-05\n",
       "1    10003374-7    May 9, 2025, 8:52:03 AM       0  1000000        2025-05-09\n",
       "2    10003374-7   May 9, 2025, 10:20:09 AM       0   320000        2025-05-09\n",
       "3    10003374-7   May 16, 2025, 9:38:44 AM  217206        0        2025-05-16\n",
       "4    10003374-7  May 28, 2025, 10:08:39 AM  309824        0        2025-05-28\n",
       "5    10003374-7  May 28, 2025, 11:28:10 AM       0   500000        2025-05-28"
      ]
     },
     "metadata": {},
     "output_type": "display_data"
    },
    {
     "data": {
      "text/html": [
       "<div>\n",
       "<style scoped>\n",
       "    .dataframe tbody tr th:only-of-type {\n",
       "        vertical-align: middle;\n",
       "    }\n",
       "\n",
       "    .dataframe tbody tr th {\n",
       "        vertical-align: top;\n",
       "    }\n",
       "\n",
       "    .dataframe thead th {\n",
       "        text-align: right;\n",
       "    }\n",
       "</style>\n",
       "<table border=\"1\" class=\"dataframe\">\n",
       "  <thead>\n",
       "    <tr style=\"text-align: right;\">\n",
       "      <th>9</th>\n",
       "      <th>idx_cartola</th>\n",
       "      <th>Fecha</th>\n",
       "      <th>Documento</th>\n",
       "      <th>Descripción</th>\n",
       "      <th>Cargos</th>\n",
       "      <th>Abonos</th>\n",
       "      <th>IDENTIFICADOR</th>\n",
       "      <th>Fecha_transferencia</th>\n",
       "      <th>clave</th>\n",
       "    </tr>\n",
       "  </thead>\n",
       "  <tbody>\n",
       "    <tr>\n",
       "      <th>0</th>\n",
       "      <td>6844</td>\n",
       "      <td>2025-05-05</td>\n",
       "      <td>62450718</td>\n",
       "      <td>Abono por transferencia de SUSANA ELIZABETH GA...</td>\n",
       "      <td>0</td>\n",
       "      <td>280000</td>\n",
       "      <td>10003374-7</td>\n",
       "      <td>05-05-2025 10:22</td>\n",
       "      <td>10003374-7_280000</td>\n",
       "    </tr>\n",
       "    <tr>\n",
       "      <th>1</th>\n",
       "      <td>10867</td>\n",
       "      <td>2025-05-09</td>\n",
       "      <td>65948282</td>\n",
       "      <td>Abono por transferencia de SUSANA ELIZABETH GA...</td>\n",
       "      <td>0</td>\n",
       "      <td>320000</td>\n",
       "      <td>10003374-7</td>\n",
       "      <td>09-05-2025 10:20</td>\n",
       "      <td>10003374-7_320000</td>\n",
       "    </tr>\n",
       "    <tr>\n",
       "      <th>2</th>\n",
       "      <td>25360</td>\n",
       "      <td>2025-05-28</td>\n",
       "      <td>78110610</td>\n",
       "      <td>Abono por transferencia de SUSANA ELIZABETH GA...</td>\n",
       "      <td>0</td>\n",
       "      <td>500000</td>\n",
       "      <td>10003374-7</td>\n",
       "      <td>28-05-2025 11:28</td>\n",
       "      <td>10003374-7_500000</td>\n",
       "    </tr>\n",
       "    <tr>\n",
       "      <th>3</th>\n",
       "      <td>11015</td>\n",
       "      <td>2025-05-09</td>\n",
       "      <td>65880325</td>\n",
       "      <td>Abono por transferencia de SUSANA ELIZABETH GA...</td>\n",
       "      <td>0</td>\n",
       "      <td>1000000</td>\n",
       "      <td>10003374-7</td>\n",
       "      <td>09-05-2025 08:52</td>\n",
       "      <td>10003374-7_1000000</td>\n",
       "    </tr>\n",
       "  </tbody>\n",
       "</table>\n",
       "</div>"
      ],
      "text/plain": [
       "9  idx_cartola      Fecha Documento  \\\n",
       "0         6844 2025-05-05  62450718   \n",
       "1        10867 2025-05-09  65948282   \n",
       "2        25360 2025-05-28  78110610   \n",
       "3        11015 2025-05-09  65880325   \n",
       "\n",
       "9                                        Descripción Cargos   Abonos  \\\n",
       "0  Abono por transferencia de SUSANA ELIZABETH GA...      0   280000   \n",
       "1  Abono por transferencia de SUSANA ELIZABETH GA...      0   320000   \n",
       "2  Abono por transferencia de SUSANA ELIZABETH GA...      0   500000   \n",
       "3  Abono por transferencia de SUSANA ELIZABETH GA...      0  1000000   \n",
       "\n",
       "9 IDENTIFICADOR Fecha_transferencia               clave  \n",
       "0    10003374-7    05-05-2025 10:22   10003374-7_280000  \n",
       "1    10003374-7    09-05-2025 10:20   10003374-7_320000  \n",
       "2    10003374-7    28-05-2025 11:28   10003374-7_500000  \n",
       "3    10003374-7    09-05-2025 08:52  10003374-7_1000000  "
      ]
     },
     "metadata": {},
     "output_type": "display_data"
    }
   ],
   "source": [
    "display(Dashboard_Mayo[Dashboard_Mayo['IDENTIFICADOR'] == '10003374-7'])\n",
    "display(df_to_rut[df_to_rut['IDENTIFICADOR'] == '10003374-7'])"
   ]
  },
  {
   "cell_type": "code",
   "execution_count": 11,
   "id": "5651e5f3",
   "metadata": {},
   "outputs": [],
   "source": [
    "# Asegura que las fechas sean datetime\n",
    "df_to_rut['Fecha'] = pd.to_datetime(df_to_rut['Fecha'], errors='coerce')\n",
    "Dashboard_Mayo['Fecha_normalizada'] = pd.to_datetime(Dashboard_Mayo['Fecha_normalizada'], errors='coerce')\n",
    "\n",
    "# Crea la clave para ambos DataFrames\n",
    "df_to_rut['clave'] = df_to_rut['IDENTIFICADOR'].astype(str) + '_' + df_to_rut['Abonos'].astype(int).astype(str)\n",
    "Dashboard_Mayo['clave'] = Dashboard_Mayo['IDENTIFICADOR'].astype(str) + '_' + Dashboard_Mayo['Abonos'].astype(int).astype(str)\n",
    "\n",
    "# Resetea el índice para rastrear filas originales\n",
    "df_to_rut = df_to_rut.reset_index().rename(columns={'index': 'idx_cartola'})\n",
    "\n",
    "resultados_dashboard = []\n",
    "usados_dashboard = set()\n",
    "\n",
    "for idx, row in df_to_rut.iterrows():\n",
    "    candidatos = Dashboard_Mayo[Dashboard_Mayo['clave'] == row['clave']]\n",
    "    if not candidatos.empty:\n",
    "        # Calcula la diferencia absoluta de días\n",
    "        candidatos = candidatos.assign(diff_days=(candidatos['Fecha_normalizada'] - row['Fecha']).abs())\n",
    "        # Elige el más cercano que no haya sido usado\n",
    "        candidatos = candidatos[~candidatos.index.isin(usados_dashboard)]\n",
    "        # Filtra solo los que tienen diff_days válido\n",
    "        candidatos = candidatos[candidatos['diff_days'].notna()]\n",
    "        if not candidatos.empty:\n",
    "            elegido = candidatos.loc[candidatos['diff_days'].idxmin()]\n",
    "            usados_dashboard.add(elegido.name)\n",
    "            merged_row = {**row, **elegido}\n",
    "            resultados_dashboard.append(merged_row)\n",
    "        else:\n",
    "            merged_row = {**row}\n",
    "            for col in Dashboard_Mayo.columns:\n",
    "                if col not in merged_row:\n",
    "                    merged_row[col] = np.nan\n",
    "            resultados_dashboard.append(merged_row)\n",
    "    else:\n",
    "        merged_row = {**row}\n",
    "        for col in Dashboard_Mayo.columns:\n",
    "            if col not in merged_row:\n",
    "                merged_row[col] = np.nan\n",
    "        resultados_dashboard.append(merged_row)\n",
    "\n",
    "df_match_dashboard = pd.DataFrame(resultados_dashboard)"
   ]
  },
  {
   "cell_type": "markdown",
   "id": "31a9077d",
   "metadata": {},
   "source": [
    "Añadir match entre las 3 fuentes"
   ]
  },
  {
   "cell_type": "code",
   "execution_count": 33,
   "id": "6c19f4aa",
   "metadata": {},
   "outputs": [
    {
     "data": {
      "text/html": [
       "<div>\n",
       "<style scoped>\n",
       "    .dataframe tbody tr th:only-of-type {\n",
       "        vertical-align: middle;\n",
       "    }\n",
       "\n",
       "    .dataframe tbody tr th {\n",
       "        vertical-align: top;\n",
       "    }\n",
       "\n",
       "    .dataframe thead th {\n",
       "        text-align: right;\n",
       "    }\n",
       "</style>\n",
       "<table border=\"1\" class=\"dataframe\">\n",
       "  <thead>\n",
       "    <tr style=\"text-align: right;\">\n",
       "      <th></th>\n",
       "      <th>idx_cartola_cartola_aporet</th>\n",
       "      <th>Fecha_cartola_aporet</th>\n",
       "      <th>Documento_cartola_aporet</th>\n",
       "      <th>Descripción_cartola_aporet</th>\n",
       "      <th>Cargos_cartola_aporet</th>\n",
       "      <th>Abonos_cartola_aporet</th>\n",
       "      <th>IDENTIFICADOR</th>\n",
       "      <th>Fecha_transferencia_cartola_aporet</th>\n",
       "      <th>clave</th>\n",
       "      <th>CARGO_ABONO</th>\n",
       "      <th>...</th>\n",
       "      <th>diff_days_cartola_aporet</th>\n",
       "      <th>idx_cartola_dashboard</th>\n",
       "      <th>Fecha_dashboard</th>\n",
       "      <th>Documento_dashboard</th>\n",
       "      <th>Descripción_dashboard</th>\n",
       "      <th>Cargos_dashboard</th>\n",
       "      <th>Abonos_dashboard</th>\n",
       "      <th>Fecha_transferencia_dashboard</th>\n",
       "      <th>Fecha_normalizada</th>\n",
       "      <th>diff_days_dashboard</th>\n",
       "    </tr>\n",
       "  </thead>\n",
       "  <tbody>\n",
       "    <tr>\n",
       "      <th>0</th>\n",
       "      <td>6844</td>\n",
       "      <td>2025-05-05</td>\n",
       "      <td>62450718</td>\n",
       "      <td>Abono por transferencia de SUSANA ELIZABETH GA...</td>\n",
       "      <td>0</td>\n",
       "      <td>280000</td>\n",
       "      <td>10003374-7</td>\n",
       "      <td>05-05-2025 10:22</td>\n",
       "      <td>10003374-7_280000</td>\n",
       "      <td>A</td>\n",
       "      <td>...</td>\n",
       "      <td>0 days</td>\n",
       "      <td>9\n",
       "idx_cartola       0\n",
       "idx_cartola    6844\n",
       "Name...</td>\n",
       "      <td>May 5, 2025, 10:22:36 AM</td>\n",
       "      <td>62450718</td>\n",
       "      <td>Abono por transferencia de SUSANA ELIZABETH GA...</td>\n",
       "      <td>0</td>\n",
       "      <td>280000</td>\n",
       "      <td>05-05-2025 10:22</td>\n",
       "      <td>2025-05-05</td>\n",
       "      <td>0 days</td>\n",
       "    </tr>\n",
       "    <tr>\n",
       "      <th>1</th>\n",
       "      <td>10867</td>\n",
       "      <td>2025-05-09</td>\n",
       "      <td>65948282</td>\n",
       "      <td>Abono por transferencia de SUSANA ELIZABETH GA...</td>\n",
       "      <td>0</td>\n",
       "      <td>320000</td>\n",
       "      <td>10003374-7</td>\n",
       "      <td>09-05-2025 10:20</td>\n",
       "      <td>10003374-7_320000</td>\n",
       "      <td>A</td>\n",
       "      <td>...</td>\n",
       "      <td>0 days</td>\n",
       "      <td>9\n",
       "idx_cartola        1\n",
       "idx_cartola    10867\n",
       "Na...</td>\n",
       "      <td>May 9, 2025, 10:20:09 AM</td>\n",
       "      <td>65948282</td>\n",
       "      <td>Abono por transferencia de SUSANA ELIZABETH GA...</td>\n",
       "      <td>0</td>\n",
       "      <td>320000</td>\n",
       "      <td>09-05-2025 10:20</td>\n",
       "      <td>2025-05-09</td>\n",
       "      <td>0 days</td>\n",
       "    </tr>\n",
       "    <tr>\n",
       "      <th>2</th>\n",
       "      <td>25360</td>\n",
       "      <td>2025-05-28</td>\n",
       "      <td>78110610</td>\n",
       "      <td>Abono por transferencia de SUSANA ELIZABETH GA...</td>\n",
       "      <td>0</td>\n",
       "      <td>500000</td>\n",
       "      <td>10003374-7</td>\n",
       "      <td>28-05-2025 11:28</td>\n",
       "      <td>10003374-7_500000</td>\n",
       "      <td>A</td>\n",
       "      <td>...</td>\n",
       "      <td>0 days</td>\n",
       "      <td>9\n",
       "idx_cartola        2\n",
       "idx_cartola    25360\n",
       "Na...</td>\n",
       "      <td>May 28, 2025, 11:28:10 AM</td>\n",
       "      <td>78110610</td>\n",
       "      <td>Abono por transferencia de SUSANA ELIZABETH GA...</td>\n",
       "      <td>0</td>\n",
       "      <td>500000</td>\n",
       "      <td>28-05-2025 11:28</td>\n",
       "      <td>2025-05-28</td>\n",
       "      <td>0 days</td>\n",
       "    </tr>\n",
       "    <tr>\n",
       "      <th>3</th>\n",
       "      <td>11015</td>\n",
       "      <td>2025-05-09</td>\n",
       "      <td>65880325</td>\n",
       "      <td>Abono por transferencia de SUSANA ELIZABETH GA...</td>\n",
       "      <td>0</td>\n",
       "      <td>1000000</td>\n",
       "      <td>10003374-7</td>\n",
       "      <td>09-05-2025 08:52</td>\n",
       "      <td>10003374-7_1000000</td>\n",
       "      <td>A</td>\n",
       "      <td>...</td>\n",
       "      <td>0 days</td>\n",
       "      <td>9\n",
       "idx_cartola        3\n",
       "idx_cartola    11015\n",
       "Na...</td>\n",
       "      <td>May 9, 2025, 8:52:03 AM</td>\n",
       "      <td>65880325</td>\n",
       "      <td>Abono por transferencia de SUSANA ELIZABETH GA...</td>\n",
       "      <td>0</td>\n",
       "      <td>1000000</td>\n",
       "      <td>09-05-2025 08:52</td>\n",
       "      <td>2025-05-09</td>\n",
       "      <td>0 days</td>\n",
       "    </tr>\n",
       "  </tbody>\n",
       "</table>\n",
       "<p>4 rows × 31 columns</p>\n",
       "</div>"
      ],
      "text/plain": [
       "   idx_cartola_cartola_aporet Fecha_cartola_aporet Documento_cartola_aporet  \\\n",
       "0                        6844           2025-05-05                 62450718   \n",
       "1                       10867           2025-05-09                 65948282   \n",
       "2                       25360           2025-05-28                 78110610   \n",
       "3                       11015           2025-05-09                 65880325   \n",
       "\n",
       "                          Descripción_cartola_aporet  Cargos_cartola_aporet  \\\n",
       "0  Abono por transferencia de SUSANA ELIZABETH GA...                      0   \n",
       "1  Abono por transferencia de SUSANA ELIZABETH GA...                      0   \n",
       "2  Abono por transferencia de SUSANA ELIZABETH GA...                      0   \n",
       "3  Abono por transferencia de SUSANA ELIZABETH GA...                      0   \n",
       "\n",
       "   Abonos_cartola_aporet IDENTIFICADOR Fecha_transferencia_cartola_aporet  \\\n",
       "0                 280000    10003374-7                   05-05-2025 10:22   \n",
       "1                 320000    10003374-7                   09-05-2025 10:20   \n",
       "2                 500000    10003374-7                   28-05-2025 11:28   \n",
       "3                1000000    10003374-7                   09-05-2025 08:52   \n",
       "\n",
       "                clave CARGO_ABONO  ... diff_days_cartola_aporet  \\\n",
       "0   10003374-7_280000           A  ...                   0 days   \n",
       "1   10003374-7_320000           A  ...                   0 days   \n",
       "2   10003374-7_500000           A  ...                   0 days   \n",
       "3  10003374-7_1000000           A  ...                   0 days   \n",
       "\n",
       "                               idx_cartola_dashboard  \\\n",
       "0  9\n",
       "idx_cartola       0\n",
       "idx_cartola    6844\n",
       "Name...   \n",
       "1  9\n",
       "idx_cartola        1\n",
       "idx_cartola    10867\n",
       "Na...   \n",
       "2  9\n",
       "idx_cartola        2\n",
       "idx_cartola    25360\n",
       "Na...   \n",
       "3  9\n",
       "idx_cartola        3\n",
       "idx_cartola    11015\n",
       "Na...   \n",
       "\n",
       "             Fecha_dashboard Documento_dashboard  \\\n",
       "0   May 5, 2025, 10:22:36 AM            62450718   \n",
       "1   May 9, 2025, 10:20:09 AM            65948282   \n",
       "2  May 28, 2025, 11:28:10 AM            78110610   \n",
       "3    May 9, 2025, 8:52:03 AM            65880325   \n",
       "\n",
       "                               Descripción_dashboard Cargos_dashboard  \\\n",
       "0  Abono por transferencia de SUSANA ELIZABETH GA...                0   \n",
       "1  Abono por transferencia de SUSANA ELIZABETH GA...                0   \n",
       "2  Abono por transferencia de SUSANA ELIZABETH GA...                0   \n",
       "3  Abono por transferencia de SUSANA ELIZABETH GA...                0   \n",
       "\n",
       "   Abonos_dashboard Fecha_transferencia_dashboard Fecha_normalizada  \\\n",
       "0            280000              05-05-2025 10:22        2025-05-05   \n",
       "1            320000              09-05-2025 10:20        2025-05-09   \n",
       "2            500000              28-05-2025 11:28        2025-05-28   \n",
       "3           1000000              09-05-2025 08:52        2025-05-09   \n",
       "\n",
       "  diff_days_dashboard  \n",
       "0              0 days  \n",
       "1              0 days  \n",
       "2              0 days  \n",
       "3              0 days  \n",
       "\n",
       "[4 rows x 31 columns]"
      ]
     },
     "metadata": {},
     "output_type": "display_data"
    }
   ],
   "source": [
    "# --- Match triple real: merge entre df_match y df_match_dashboard por clave e IDENTIFICADOR ---\n",
    "\n",
    "# Primero, filtra ambos DataFrames solo a las claves triple\n",
    "claves_triple = set(Dashboard_Mayo['clave']) & set(df_APORET_detalle['clave']) & set(df_to_rut['clave'])\n",
    "\n",
    "df_match_triple = df_match[df_match['clave'].isin(claves_triple)].copy()\n",
    "df_match_dashboard_triple = df_match_dashboard[df_match_dashboard['clave'].isin(claves_triple)].copy()\n",
    "\n",
    "# Haz el merge (puedes agregar sufijos para distinguir columnas)\n",
    "df_match3 = pd.merge(\n",
    "    df_match_triple,\n",
    "    df_match_dashboard_triple,\n",
    "    on=['clave', 'IDENTIFICADOR'],\n",
    "    suffixes=('_cartola_aporet', '_dashboard'),\n",
    "    how='inner'\n",
    ")\n",
    "\n",
    "display(df_match3[df_match3['IDENTIFICADOR'] == '10003374-7'])\n",
    "\n",
    "\n",
    "\n",
    "# --- Dashboard_Mayo_sinrespaldo ---\n",
    "claves_matcheadas = set(df_match_dashboard['clave'].dropna())\n",
    "Dashboard_Mayo_sinrespaldo = Dashboard_Mayo[~Dashboard_Mayo['clave'].isin(claves_matcheadas)].copy()"
   ]
  },
  {
   "cell_type": "code",
   "execution_count": null,
   "id": "fbaebf07",
   "metadata": {},
   "outputs": [],
   "source": [
    "# Exporta a Excel\n",
    "with pd.ExcelWriter('Temporal/ViernesCartolaGPI_realmatch20.xlsx') as writer:\n",
    "    df_match.to_excel(writer, sheet_name='Match', index=False)\n",
    "    df_match3.to_excel(writer, sheet_name='3 Flujo', index=False)\n",
    "    df_to_rut.to_excel(writer, sheet_name='Cartola', index=False)\n",
    "    no_match_cartola.to_excel(writer, sheet_name='No_Match_CARTOLA', index=False)\n",
    "    no_match_aporet.to_excel(writer, sheet_name='No_Match_APORET', index=False)\n",
    "    Dashboard_Mayo_sinrespaldo.to_excel(writer, sheet_name='Dashboard sin respaldo', index=False)\n"
   ]
  },
  {
   "cell_type": "markdown",
   "id": "b4a8c90b",
   "metadata": {},
   "source": [
    "### test"
   ]
  },
  {
   "cell_type": "code",
   "execution_count": 14,
   "id": "afed9284",
   "metadata": {},
   "outputs": [
    {
     "data": {
      "text/plain": [
       "'cartola_clp1 = cargar_cartola_bice(\"Y:\\\\PROYECTO CONCILIACION\\\\EJEMPLOS POWER QUARY\\\\BICE\\\\BICE 01-29316-8/30-04.xlsx\", tipo_mon=\\'clp\\')\\ncartola_clp_RACIONAL = cargar_cartola_bice(\"Y:\\\\PROYECTO CONCILIACION\\\\EJEMPLOS POWER QUARY\\\\BICE\\\\BICE 01-35659-3/30-04.xlsx\", tipo_mon=\\'clp\\') \\ncartola_clp_BETTERPLAN = cargar_cartola_bice(\"Y:\\\\PROYECTO CONCILIACION\\\\EJEMPLOS POWER QUARY\\\\BICE\\\\BICE 01-36253-4/30-04.xlsx\", tipo_mon=\\'clp\\') \\ncartola_clp_ZESTY = cargar_cartola_bice(\"Y:\\\\PROYECTO CONCILIACION\\\\EJEMPLOS POWER QUARY\\\\BICE\\\\BICE 01-37487-7/30-04.xlsx\", tipo_mon=\\'clp\\') \\ncartola_clp5 = cargar_cartola_bice(\"Y:\\\\PROYECTO CONCILIACION\\\\EJEMPLOS POWER QUARY\\\\BICE\\\\BICE 01-38571-2/30-04.xlsx\", tipo_mon=\\'clp\\') ## SHINKANSEN\\ncartola_clp6 = cargar_cartola_bice(\"Y:\\\\PROYECTO CONCILIACION\\\\EJEMPLOS POWER QUARY\\\\BICE\\\\BICE 01-40540-3/07-03 AL 07-04.xlsx\", tipo_mon=\\'clp\\')\\ncartola_eur = cargar_cartola_bice(\"Y:\\\\PROYECTO CONCILIACION\\\\EJEMPLOS POWER QUARY\\\\BICE\\\\BICE 14-20-101366-7 EURO/02-01 AL 02-04.xlsx\", tipo_mon=\\'eur\\', df_euro_obs=df_euro_obs)'"
      ]
     },
     "execution_count": 14,
     "metadata": {},
     "output_type": "execute_result"
    }
   ],
   "source": [
    "\"\"\"cartola_clp1 = cargar_cartola_bice(\"Y:\\PROYECTO CONCILIACION\\EJEMPLOS POWER QUARY\\BICE\\BICE 01-29316-8/30-04.xlsx\", tipo_mon='clp')\n",
    "cartola_clp_RACIONAL = cargar_cartola_bice(\"Y:\\PROYECTO CONCILIACION\\EJEMPLOS POWER QUARY\\BICE\\BICE 01-35659-3/30-04.xlsx\", tipo_mon='clp') \n",
    "cartola_clp_BETTERPLAN = cargar_cartola_bice(\"Y:\\PROYECTO CONCILIACION\\EJEMPLOS POWER QUARY\\BICE\\BICE 01-36253-4/30-04.xlsx\", tipo_mon='clp') \n",
    "cartola_clp_ZESTY = cargar_cartola_bice(\"Y:\\PROYECTO CONCILIACION\\EJEMPLOS POWER QUARY\\BICE\\BICE 01-37487-7/30-04.xlsx\", tipo_mon='clp') \n",
    "cartola_clp5 = cargar_cartola_bice(\"Y:\\PROYECTO CONCILIACION\\EJEMPLOS POWER QUARY\\BICE\\BICE 01-38571-2/30-04.xlsx\", tipo_mon='clp') ## SHINKANSEN\n",
    "cartola_clp6 = cargar_cartola_bice(\"Y:\\PROYECTO CONCILIACION\\EJEMPLOS POWER QUARY\\BICE\\BICE 01-40540-3/07-03 AL 07-04.xlsx\", tipo_mon='clp')\n",
    "cartola_eur = cargar_cartola_bice(\"Y:\\PROYECTO CONCILIACION\\EJEMPLOS POWER QUARY\\BICE\\BICE 14-20-101366-7 EURO/02-01 AL 02-04.xlsx\", tipo_mon='eur', df_euro_obs=df_euro_obs)\"\"\""
   ]
  },
  {
   "cell_type": "markdown",
   "id": "467c3dc7",
   "metadata": {},
   "source": [
    "### Carta Gantt"
   ]
  },
  {
   "cell_type": "code",
   "execution_count": 15,
   "id": "e85bc798",
   "metadata": {},
   "outputs": [
    {
     "data": {
      "application/vnd.plotly.v1+json": {
       "config": {
        "plotlyServerURL": "https://plot.ly"
       },
       "data": [
        {
         "fill": "toself",
         "fillcolor": "rgb(0, 255, 100)",
         "hoverinfo": "name",
         "legendgroup": "rgb(0, 255, 100)",
         "mode": "none",
         "name": "Completo",
         "type": "scatter",
         "x": [
          "2025-06-02",
          "2025-06-08",
          "2025-06-08",
          "2025-06-02"
         ],
         "y": [
          2.8,
          2.8,
          3.2,
          3.2
         ]
        },
        {
         "fill": "toself",
         "fillcolor": "rgb(220, 0, 0)",
         "hoverinfo": "name",
         "legendgroup": "rgb(220, 0, 0)",
         "mode": "none",
         "name": "Sin partir",
         "type": "scatter",
         "x": [
          "2025-06-16",
          "2025-06-22",
          "2025-06-22",
          "2025-06-16",
          "2025-06-16",
          "2025-06-23",
          "2025-06-29",
          "2025-06-29",
          "2025-06-23"
         ],
         "y": [
          0.8,
          0.8,
          1.2,
          1.2,
          null,
          -0.2,
          -0.2,
          0.2,
          0.2
         ]
        },
        {
         "fill": "toself",
         "fillcolor": "rgb(255, 230, 41)",
         "hoverinfo": "name",
         "legendgroup": "rgb(255, 230, 41)",
         "mode": "none",
         "name": "Incompleto",
         "type": "scatter",
         "x": [
          "2025-06-04",
          "2025-06-22",
          "2025-06-22",
          "2025-06-04"
         ],
         "y": [
          1.8,
          1.8,
          2.2,
          2.2
         ]
        },
        {
         "legendgroup": "rgb(0, 255, 100)",
         "marker": {
          "color": "rgb(0, 255, 100)",
          "opacity": 0,
          "size": 1
         },
         "mode": "markers",
         "name": "",
         "showlegend": false,
         "text": [
          null,
          null
         ],
         "type": "scatter",
         "x": [
          "2025-06-02",
          "2025-06-08"
         ],
         "y": [
          3,
          3
         ]
        },
        {
         "legendgroup": "rgb(220, 0, 0)",
         "marker": {
          "color": "rgb(220, 0, 0)",
          "opacity": 0,
          "size": 1
         },
         "mode": "markers",
         "name": "",
         "showlegend": false,
         "text": [
          null,
          null,
          null,
          null
         ],
         "type": "scatter",
         "x": [
          "2025-06-16",
          "2025-06-22",
          "2025-06-23",
          "2025-06-29"
         ],
         "y": [
          1,
          1,
          0,
          0
         ]
        },
        {
         "legendgroup": "rgb(255, 230, 41)",
         "marker": {
          "color": "rgb(255, 230, 41)",
          "opacity": 0,
          "size": 1
         },
         "mode": "markers",
         "name": "",
         "showlegend": false,
         "text": [
          null,
          null
         ],
         "type": "scatter",
         "x": [
          "2025-06-04",
          "2025-06-22"
         ],
         "y": [
          2,
          2
         ]
        }
       ],
       "layout": {
        "font": {
         "size": 16
        },
        "height": 600,
        "hovermode": "closest",
        "showlegend": true,
        "template": {
         "data": {
          "bar": [
           {
            "error_x": {
             "color": "#2a3f5f"
            },
            "error_y": {
             "color": "#2a3f5f"
            },
            "marker": {
             "line": {
              "color": "#E5ECF6",
              "width": 0.5
             },
             "pattern": {
              "fillmode": "overlay",
              "size": 10,
              "solidity": 0.2
             }
            },
            "type": "bar"
           }
          ],
          "barpolar": [
           {
            "marker": {
             "line": {
              "color": "#E5ECF6",
              "width": 0.5
             },
             "pattern": {
              "fillmode": "overlay",
              "size": 10,
              "solidity": 0.2
             }
            },
            "type": "barpolar"
           }
          ],
          "carpet": [
           {
            "aaxis": {
             "endlinecolor": "#2a3f5f",
             "gridcolor": "white",
             "linecolor": "white",
             "minorgridcolor": "white",
             "startlinecolor": "#2a3f5f"
            },
            "baxis": {
             "endlinecolor": "#2a3f5f",
             "gridcolor": "white",
             "linecolor": "white",
             "minorgridcolor": "white",
             "startlinecolor": "#2a3f5f"
            },
            "type": "carpet"
           }
          ],
          "choropleth": [
           {
            "colorbar": {
             "outlinewidth": 0,
             "ticks": ""
            },
            "type": "choropleth"
           }
          ],
          "contour": [
           {
            "colorbar": {
             "outlinewidth": 0,
             "ticks": ""
            },
            "colorscale": [
             [
              0,
              "#0d0887"
             ],
             [
              0.1111111111111111,
              "#46039f"
             ],
             [
              0.2222222222222222,
              "#7201a8"
             ],
             [
              0.3333333333333333,
              "#9c179e"
             ],
             [
              0.4444444444444444,
              "#bd3786"
             ],
             [
              0.5555555555555556,
              "#d8576b"
             ],
             [
              0.6666666666666666,
              "#ed7953"
             ],
             [
              0.7777777777777778,
              "#fb9f3a"
             ],
             [
              0.8888888888888888,
              "#fdca26"
             ],
             [
              1,
              "#f0f921"
             ]
            ],
            "type": "contour"
           }
          ],
          "contourcarpet": [
           {
            "colorbar": {
             "outlinewidth": 0,
             "ticks": ""
            },
            "type": "contourcarpet"
           }
          ],
          "heatmap": [
           {
            "colorbar": {
             "outlinewidth": 0,
             "ticks": ""
            },
            "colorscale": [
             [
              0,
              "#0d0887"
             ],
             [
              0.1111111111111111,
              "#46039f"
             ],
             [
              0.2222222222222222,
              "#7201a8"
             ],
             [
              0.3333333333333333,
              "#9c179e"
             ],
             [
              0.4444444444444444,
              "#bd3786"
             ],
             [
              0.5555555555555556,
              "#d8576b"
             ],
             [
              0.6666666666666666,
              "#ed7953"
             ],
             [
              0.7777777777777778,
              "#fb9f3a"
             ],
             [
              0.8888888888888888,
              "#fdca26"
             ],
             [
              1,
              "#f0f921"
             ]
            ],
            "type": "heatmap"
           }
          ],
          "heatmapgl": [
           {
            "colorbar": {
             "outlinewidth": 0,
             "ticks": ""
            },
            "colorscale": [
             [
              0,
              "#0d0887"
             ],
             [
              0.1111111111111111,
              "#46039f"
             ],
             [
              0.2222222222222222,
              "#7201a8"
             ],
             [
              0.3333333333333333,
              "#9c179e"
             ],
             [
              0.4444444444444444,
              "#bd3786"
             ],
             [
              0.5555555555555556,
              "#d8576b"
             ],
             [
              0.6666666666666666,
              "#ed7953"
             ],
             [
              0.7777777777777778,
              "#fb9f3a"
             ],
             [
              0.8888888888888888,
              "#fdca26"
             ],
             [
              1,
              "#f0f921"
             ]
            ],
            "type": "heatmapgl"
           }
          ],
          "histogram": [
           {
            "marker": {
             "pattern": {
              "fillmode": "overlay",
              "size": 10,
              "solidity": 0.2
             }
            },
            "type": "histogram"
           }
          ],
          "histogram2d": [
           {
            "colorbar": {
             "outlinewidth": 0,
             "ticks": ""
            },
            "colorscale": [
             [
              0,
              "#0d0887"
             ],
             [
              0.1111111111111111,
              "#46039f"
             ],
             [
              0.2222222222222222,
              "#7201a8"
             ],
             [
              0.3333333333333333,
              "#9c179e"
             ],
             [
              0.4444444444444444,
              "#bd3786"
             ],
             [
              0.5555555555555556,
              "#d8576b"
             ],
             [
              0.6666666666666666,
              "#ed7953"
             ],
             [
              0.7777777777777778,
              "#fb9f3a"
             ],
             [
              0.8888888888888888,
              "#fdca26"
             ],
             [
              1,
              "#f0f921"
             ]
            ],
            "type": "histogram2d"
           }
          ],
          "histogram2dcontour": [
           {
            "colorbar": {
             "outlinewidth": 0,
             "ticks": ""
            },
            "colorscale": [
             [
              0,
              "#0d0887"
             ],
             [
              0.1111111111111111,
              "#46039f"
             ],
             [
              0.2222222222222222,
              "#7201a8"
             ],
             [
              0.3333333333333333,
              "#9c179e"
             ],
             [
              0.4444444444444444,
              "#bd3786"
             ],
             [
              0.5555555555555556,
              "#d8576b"
             ],
             [
              0.6666666666666666,
              "#ed7953"
             ],
             [
              0.7777777777777778,
              "#fb9f3a"
             ],
             [
              0.8888888888888888,
              "#fdca26"
             ],
             [
              1,
              "#f0f921"
             ]
            ],
            "type": "histogram2dcontour"
           }
          ],
          "mesh3d": [
           {
            "colorbar": {
             "outlinewidth": 0,
             "ticks": ""
            },
            "type": "mesh3d"
           }
          ],
          "parcoords": [
           {
            "line": {
             "colorbar": {
              "outlinewidth": 0,
              "ticks": ""
             }
            },
            "type": "parcoords"
           }
          ],
          "pie": [
           {
            "automargin": true,
            "type": "pie"
           }
          ],
          "scatter": [
           {
            "fillpattern": {
             "fillmode": "overlay",
             "size": 10,
             "solidity": 0.2
            },
            "type": "scatter"
           }
          ],
          "scatter3d": [
           {
            "line": {
             "colorbar": {
              "outlinewidth": 0,
              "ticks": ""
             }
            },
            "marker": {
             "colorbar": {
              "outlinewidth": 0,
              "ticks": ""
             }
            },
            "type": "scatter3d"
           }
          ],
          "scattercarpet": [
           {
            "marker": {
             "colorbar": {
              "outlinewidth": 0,
              "ticks": ""
             }
            },
            "type": "scattercarpet"
           }
          ],
          "scattergeo": [
           {
            "marker": {
             "colorbar": {
              "outlinewidth": 0,
              "ticks": ""
             }
            },
            "type": "scattergeo"
           }
          ],
          "scattergl": [
           {
            "marker": {
             "colorbar": {
              "outlinewidth": 0,
              "ticks": ""
             }
            },
            "type": "scattergl"
           }
          ],
          "scattermapbox": [
           {
            "marker": {
             "colorbar": {
              "outlinewidth": 0,
              "ticks": ""
             }
            },
            "type": "scattermapbox"
           }
          ],
          "scatterpolar": [
           {
            "marker": {
             "colorbar": {
              "outlinewidth": 0,
              "ticks": ""
             }
            },
            "type": "scatterpolar"
           }
          ],
          "scatterpolargl": [
           {
            "marker": {
             "colorbar": {
              "outlinewidth": 0,
              "ticks": ""
             }
            },
            "type": "scatterpolargl"
           }
          ],
          "scatterternary": [
           {
            "marker": {
             "colorbar": {
              "outlinewidth": 0,
              "ticks": ""
             }
            },
            "type": "scatterternary"
           }
          ],
          "surface": [
           {
            "colorbar": {
             "outlinewidth": 0,
             "ticks": ""
            },
            "colorscale": [
             [
              0,
              "#0d0887"
             ],
             [
              0.1111111111111111,
              "#46039f"
             ],
             [
              0.2222222222222222,
              "#7201a8"
             ],
             [
              0.3333333333333333,
              "#9c179e"
             ],
             [
              0.4444444444444444,
              "#bd3786"
             ],
             [
              0.5555555555555556,
              "#d8576b"
             ],
             [
              0.6666666666666666,
              "#ed7953"
             ],
             [
              0.7777777777777778,
              "#fb9f3a"
             ],
             [
              0.8888888888888888,
              "#fdca26"
             ],
             [
              1,
              "#f0f921"
             ]
            ],
            "type": "surface"
           }
          ],
          "table": [
           {
            "cells": {
             "fill": {
              "color": "#EBF0F8"
             },
             "line": {
              "color": "white"
             }
            },
            "header": {
             "fill": {
              "color": "#C8D4E3"
             },
             "line": {
              "color": "white"
             }
            },
            "type": "table"
           }
          ]
         },
         "layout": {
          "annotationdefaults": {
           "arrowcolor": "#2a3f5f",
           "arrowhead": 0,
           "arrowwidth": 1
          },
          "autotypenumbers": "strict",
          "coloraxis": {
           "colorbar": {
            "outlinewidth": 0,
            "ticks": ""
           }
          },
          "colorscale": {
           "diverging": [
            [
             0,
             "#8e0152"
            ],
            [
             0.1,
             "#c51b7d"
            ],
            [
             0.2,
             "#de77ae"
            ],
            [
             0.3,
             "#f1b6da"
            ],
            [
             0.4,
             "#fde0ef"
            ],
            [
             0.5,
             "#f7f7f7"
            ],
            [
             0.6,
             "#e6f5d0"
            ],
            [
             0.7,
             "#b8e186"
            ],
            [
             0.8,
             "#7fbc41"
            ],
            [
             0.9,
             "#4d9221"
            ],
            [
             1,
             "#276419"
            ]
           ],
           "sequential": [
            [
             0,
             "#0d0887"
            ],
            [
             0.1111111111111111,
             "#46039f"
            ],
            [
             0.2222222222222222,
             "#7201a8"
            ],
            [
             0.3333333333333333,
             "#9c179e"
            ],
            [
             0.4444444444444444,
             "#bd3786"
            ],
            [
             0.5555555555555556,
             "#d8576b"
            ],
            [
             0.6666666666666666,
             "#ed7953"
            ],
            [
             0.7777777777777778,
             "#fb9f3a"
            ],
            [
             0.8888888888888888,
             "#fdca26"
            ],
            [
             1,
             "#f0f921"
            ]
           ],
           "sequentialminus": [
            [
             0,
             "#0d0887"
            ],
            [
             0.1111111111111111,
             "#46039f"
            ],
            [
             0.2222222222222222,
             "#7201a8"
            ],
            [
             0.3333333333333333,
             "#9c179e"
            ],
            [
             0.4444444444444444,
             "#bd3786"
            ],
            [
             0.5555555555555556,
             "#d8576b"
            ],
            [
             0.6666666666666666,
             "#ed7953"
            ],
            [
             0.7777777777777778,
             "#fb9f3a"
            ],
            [
             0.8888888888888888,
             "#fdca26"
            ],
            [
             1,
             "#f0f921"
            ]
           ]
          },
          "colorway": [
           "#636efa",
           "#EF553B",
           "#00cc96",
           "#ab63fa",
           "#FFA15A",
           "#19d3f3",
           "#FF6692",
           "#B6E880",
           "#FF97FF",
           "#FECB52"
          ],
          "font": {
           "color": "#2a3f5f"
          },
          "geo": {
           "bgcolor": "white",
           "lakecolor": "white",
           "landcolor": "#E5ECF6",
           "showlakes": true,
           "showland": true,
           "subunitcolor": "white"
          },
          "hoverlabel": {
           "align": "left"
          },
          "hovermode": "closest",
          "mapbox": {
           "style": "light"
          },
          "paper_bgcolor": "white",
          "plot_bgcolor": "#E5ECF6",
          "polar": {
           "angularaxis": {
            "gridcolor": "white",
            "linecolor": "white",
            "ticks": ""
           },
           "bgcolor": "#E5ECF6",
           "radialaxis": {
            "gridcolor": "white",
            "linecolor": "white",
            "ticks": ""
           }
          },
          "scene": {
           "xaxis": {
            "backgroundcolor": "#E5ECF6",
            "gridcolor": "white",
            "gridwidth": 2,
            "linecolor": "white",
            "showbackground": true,
            "ticks": "",
            "zerolinecolor": "white"
           },
           "yaxis": {
            "backgroundcolor": "#E5ECF6",
            "gridcolor": "white",
            "gridwidth": 2,
            "linecolor": "white",
            "showbackground": true,
            "ticks": "",
            "zerolinecolor": "white"
           },
           "zaxis": {
            "backgroundcolor": "#E5ECF6",
            "gridcolor": "white",
            "gridwidth": 2,
            "linecolor": "white",
            "showbackground": true,
            "ticks": "",
            "zerolinecolor": "white"
           }
          },
          "shapedefaults": {
           "line": {
            "color": "#2a3f5f"
           }
          },
          "ternary": {
           "aaxis": {
            "gridcolor": "white",
            "linecolor": "white",
            "ticks": ""
           },
           "baxis": {
            "gridcolor": "white",
            "linecolor": "white",
            "ticks": ""
           },
           "bgcolor": "#E5ECF6",
           "caxis": {
            "gridcolor": "white",
            "linecolor": "white",
            "ticks": ""
           }
          },
          "title": {
           "x": 0.05
          },
          "xaxis": {
           "automargin": true,
           "gridcolor": "white",
           "linecolor": "white",
           "ticks": "",
           "title": {
            "standoff": 15
           },
           "zerolinecolor": "white",
           "zerolinewidth": 2
          },
          "yaxis": {
           "automargin": true,
           "gridcolor": "white",
           "linecolor": "white",
           "ticks": "",
           "title": {
            "standoff": 15
           },
           "zerolinecolor": "white",
           "zerolinewidth": 2
          }
         }
        },
        "title": {
         "text": "Gantt Chart"
        },
        "xaxis": {
         "rangeselector": {
          "buttons": [
           {
            "count": 7,
            "label": "1w",
            "step": "day",
            "stepmode": "backward"
           },
           {
            "count": 1,
            "label": "1m",
            "step": "month",
            "stepmode": "backward"
           },
           {
            "count": 6,
            "label": "6m",
            "step": "month",
            "stepmode": "backward"
           },
           {
            "count": 1,
            "label": "YTD",
            "step": "year",
            "stepmode": "todate"
           },
           {
            "count": 1,
            "label": "1y",
            "step": "year",
            "stepmode": "backward"
           },
           {
            "step": "all"
           }
          ]
         },
         "showgrid": false,
         "type": "date",
         "zeroline": false
        },
        "yaxis": {
         "autorange": false,
         "range": [
          -1,
          5
         ],
         "showgrid": false,
         "ticktext": [
          "Visualización mediante correo/reporte",
          "Conciliación Ejecutivos",
          "Aplicar conciliación BBDD, Cartolas, Dashboard",
          "Estandarizar Cartolas Bancarias"
         ],
         "tickvals": [
          0,
          1,
          2,
          3
         ],
         "zeroline": false
        }
       }
      }
     },
     "metadata": {},
     "output_type": "display_data"
    }
   ],
   "source": [
    "import plotly.figure_factory as ff\n",
    "\n",
    "df = [dict(Task=\"Estandarizar Cartolas Bancarias\", Start='2025-06-02', Finish='2025-06-08', Resource='Completo'),\n",
    "      dict(Task=\"Aplicar conciliación BBDD, Cartolas, Dashboard\", Start='2025-06-04', Finish='2025-06-22', Resource='Incompleto'),\n",
    "      dict(Task=\"Conciliación Ejecutivos\", Start='2025-06-16', Finish='2025-06-22', Resource='Sin partir'),\n",
    "      dict(Task=\"Visualización mediante correo/reporte\", Start='2025-06-23', Finish='2025-06-29', Resource='Sin partir')]\n",
    "\n",
    "colors = {\n",
    "    'Sin partir': 'rgb(220, 0, 0)',\n",
    "    'Incompleto': (1, 0.9, 0.16),\n",
    "    'Completo': 'rgb(0, 255, 100)'\n",
    "}\n",
    "\n",
    "fig = ff.create_gantt(df, colors=colors, index_col='Resource', show_colorbar=True, group_tasks=True)\n",
    "\n",
    "# Aumentar tamaño de fuente\n",
    "fig.update_layout(\n",
    "    font=dict(\n",
    "        size=16  # Cambia este número para ajustar el tamaño\n",
    "    )\n",
    ")\n",
    "\n",
    "fig.show()\n"
   ]
  },
  {
   "cell_type": "code",
   "execution_count": 16,
   "id": "87a84046",
   "metadata": {},
   "outputs": [],
   "source": [
    "colors = {\n",
    "    'Estandarizar Cartolas Bancarias': 'rgb(0, 102, 204)',\n",
    "    'Cruce BBDD y Cartolas': 'rgb(0, 102, 204)',\n",
    "    'Conciliación de cartolas bancarias con GPI y Dashboard de Racional': 'rgb(0, 102, 204)',\n",
    "    'Integrar todas las plataformas en la conciliación de cartolas bancarias BICE': 'rgb(102, 204, 255)',\n",
    "    'Comienzo de estandarización y conciliación con banco Security con Plataforma Racional': 'rgb(0, 204, 150)',\n",
    "    'Conciliación con todas las plataformas en banco Security': 'rgb(204, 204, 0)',\n",
    "    'Entrega de reportes. Integración de código Python con visualización en Power BI': 'rgb(255, 153, 51)',\n",
    "    'Integración con Power BI. Entrega de reportes. Toma de decisiones en base a resultados': 'rgb(255, 102, 102)'\n",
    "}"
   ]
  },
  {
   "cell_type": "code",
   "execution_count": 17,
   "id": "df2f6dcc",
   "metadata": {},
   "outputs": [
    {
     "data": {
      "application/vnd.plotly.v1+json": {
       "config": {
        "plotlyServerURL": "https://plot.ly"
       },
       "data": [
        {
         "fill": "toself",
         "fillcolor": "rgb(0, 102, 204)",
         "hoverinfo": "name",
         "legendgroup": "rgb(0, 102, 204)",
         "mode": "none",
         "name": "Estandarizar Cartolas Bancarias",
         "type": "scatter",
         "x": [
          "2025-06-02",
          "2025-06-08",
          "2025-06-08",
          "2025-06-02"
         ],
         "y": [
          6.8,
          6.8,
          7.2,
          7.2
         ]
        },
        {
         "fill": "toself",
         "fillcolor": "rgb(0, 153, 255)",
         "hoverinfo": "name",
         "legendgroup": "rgb(0, 153, 255)",
         "mode": "none",
         "name": "Cruce BBDD y Cartolas",
         "type": "scatter",
         "x": [
          "2025-06-09",
          "2025-06-15",
          "2025-06-15",
          "2025-06-09"
         ],
         "y": [
          5.8,
          5.8,
          6.2,
          6.2
         ]
        },
        {
         "fill": "toself",
         "fillcolor": "rgb(0, 204, 204)",
         "hoverinfo": "name",
         "legendgroup": "rgb(0, 204, 204)",
         "mode": "none",
         "name": "Conciliación de cartolas bancarias con GPI y Dashboard de Racional",
         "type": "scatter",
         "x": [
          "2025-06-16",
          "2025-06-22",
          "2025-06-22",
          "2025-06-16"
         ],
         "y": [
          4.8,
          4.8,
          5.2,
          5.2
         ]
        },
        {
         "fill": "toself",
         "fillcolor": "rgb(102, 204, 102)",
         "hoverinfo": "name",
         "legendgroup": "rgb(102, 204, 102)",
         "mode": "none",
         "name": "Incorporación del resto de las Fintech al proceso de conciliación",
         "type": "scatter",
         "x": [
          "2025-06-23",
          "2025-06-29",
          "2025-06-29",
          "2025-06-23"
         ],
         "y": [
          3.8,
          3.8,
          4.2,
          4.2
         ]
        },
        {
         "fill": "toself",
         "fillcolor": "rgb(255, 204, 0)",
         "hoverinfo": "name",
         "legendgroup": "rgb(255, 204, 0)",
         "mode": "none",
         "name": "Continuación del proceso de incorporación de FinTech",
         "type": "scatter",
         "x": [
          "2025-06-30",
          "2025-07-06",
          "2025-07-06",
          "2025-06-30"
         ],
         "y": [
          2.8,
          2.8,
          3.2,
          3.2
         ]
        },
        {
         "fill": "toself",
         "fillcolor": "rgb(255, 153, 51)",
         "hoverinfo": "name",
         "legendgroup": "rgb(255, 153, 51)",
         "mode": "none",
         "name": "Análisis de casos críticos detectados en los resultados de las conciliaciones",
         "type": "scatter",
         "x": [
          "2025-07-07",
          "2025-07-13",
          "2025-07-13",
          "2025-07-07"
         ],
         "y": [
          1.8,
          1.8,
          2.2,
          2.2
         ]
        },
        {
         "fill": "toself",
         "fillcolor": "rgb(255, 102, 102)",
         "hoverinfo": "name",
         "legendgroup": "rgb(255, 102, 102)",
         "mode": "none",
         "name": "Entrega de reportes. Integración de código Python con visualización en Power BI",
         "type": "scatter",
         "x": [
          "2025-07-14",
          "2025-07-20",
          "2025-07-20",
          "2025-07-14"
         ],
         "y": [
          0.8,
          0.8,
          1.2,
          1.2
         ]
        },
        {
         "fill": "toself",
         "fillcolor": "rgb(204, 0, 102)",
         "hoverinfo": "name",
         "legendgroup": "rgb(204, 0, 102)",
         "mode": "none",
         "name": "Integración con Power BI. Entrega de reportes. Toma de decisiones en base a resultados",
         "type": "scatter",
         "x": [
          "2025-07-21",
          "2025-07-27",
          "2025-07-27",
          "2025-07-21"
         ],
         "y": [
          -0.2,
          -0.2,
          0.2,
          0.2
         ]
        }
       ],
       "layout": {
        "font": {
         "size": 17
        },
        "height": 700,
        "hovermode": "closest",
        "legend": {
         "font": {
          "size": 18
         },
         "itemsizing": "constant",
         "title": {
          "font": {
           "size": 16
          }
         },
         "traceorder": "normal"
        },
        "showlegend": true,
        "template": {
         "data": {
          "bar": [
           {
            "error_x": {
             "color": "#2a3f5f"
            },
            "error_y": {
             "color": "#2a3f5f"
            },
            "marker": {
             "line": {
              "color": "#E5ECF6",
              "width": 0.5
             },
             "pattern": {
              "fillmode": "overlay",
              "size": 10,
              "solidity": 0.2
             }
            },
            "type": "bar"
           }
          ],
          "barpolar": [
           {
            "marker": {
             "line": {
              "color": "#E5ECF6",
              "width": 0.5
             },
             "pattern": {
              "fillmode": "overlay",
              "size": 10,
              "solidity": 0.2
             }
            },
            "type": "barpolar"
           }
          ],
          "carpet": [
           {
            "aaxis": {
             "endlinecolor": "#2a3f5f",
             "gridcolor": "white",
             "linecolor": "white",
             "minorgridcolor": "white",
             "startlinecolor": "#2a3f5f"
            },
            "baxis": {
             "endlinecolor": "#2a3f5f",
             "gridcolor": "white",
             "linecolor": "white",
             "minorgridcolor": "white",
             "startlinecolor": "#2a3f5f"
            },
            "type": "carpet"
           }
          ],
          "choropleth": [
           {
            "colorbar": {
             "outlinewidth": 0,
             "ticks": ""
            },
            "type": "choropleth"
           }
          ],
          "contour": [
           {
            "colorbar": {
             "outlinewidth": 0,
             "ticks": ""
            },
            "colorscale": [
             [
              0,
              "#0d0887"
             ],
             [
              0.1111111111111111,
              "#46039f"
             ],
             [
              0.2222222222222222,
              "#7201a8"
             ],
             [
              0.3333333333333333,
              "#9c179e"
             ],
             [
              0.4444444444444444,
              "#bd3786"
             ],
             [
              0.5555555555555556,
              "#d8576b"
             ],
             [
              0.6666666666666666,
              "#ed7953"
             ],
             [
              0.7777777777777778,
              "#fb9f3a"
             ],
             [
              0.8888888888888888,
              "#fdca26"
             ],
             [
              1,
              "#f0f921"
             ]
            ],
            "type": "contour"
           }
          ],
          "contourcarpet": [
           {
            "colorbar": {
             "outlinewidth": 0,
             "ticks": ""
            },
            "type": "contourcarpet"
           }
          ],
          "heatmap": [
           {
            "colorbar": {
             "outlinewidth": 0,
             "ticks": ""
            },
            "colorscale": [
             [
              0,
              "#0d0887"
             ],
             [
              0.1111111111111111,
              "#46039f"
             ],
             [
              0.2222222222222222,
              "#7201a8"
             ],
             [
              0.3333333333333333,
              "#9c179e"
             ],
             [
              0.4444444444444444,
              "#bd3786"
             ],
             [
              0.5555555555555556,
              "#d8576b"
             ],
             [
              0.6666666666666666,
              "#ed7953"
             ],
             [
              0.7777777777777778,
              "#fb9f3a"
             ],
             [
              0.8888888888888888,
              "#fdca26"
             ],
             [
              1,
              "#f0f921"
             ]
            ],
            "type": "heatmap"
           }
          ],
          "heatmapgl": [
           {
            "colorbar": {
             "outlinewidth": 0,
             "ticks": ""
            },
            "colorscale": [
             [
              0,
              "#0d0887"
             ],
             [
              0.1111111111111111,
              "#46039f"
             ],
             [
              0.2222222222222222,
              "#7201a8"
             ],
             [
              0.3333333333333333,
              "#9c179e"
             ],
             [
              0.4444444444444444,
              "#bd3786"
             ],
             [
              0.5555555555555556,
              "#d8576b"
             ],
             [
              0.6666666666666666,
              "#ed7953"
             ],
             [
              0.7777777777777778,
              "#fb9f3a"
             ],
             [
              0.8888888888888888,
              "#fdca26"
             ],
             [
              1,
              "#f0f921"
             ]
            ],
            "type": "heatmapgl"
           }
          ],
          "histogram": [
           {
            "marker": {
             "pattern": {
              "fillmode": "overlay",
              "size": 10,
              "solidity": 0.2
             }
            },
            "type": "histogram"
           }
          ],
          "histogram2d": [
           {
            "colorbar": {
             "outlinewidth": 0,
             "ticks": ""
            },
            "colorscale": [
             [
              0,
              "#0d0887"
             ],
             [
              0.1111111111111111,
              "#46039f"
             ],
             [
              0.2222222222222222,
              "#7201a8"
             ],
             [
              0.3333333333333333,
              "#9c179e"
             ],
             [
              0.4444444444444444,
              "#bd3786"
             ],
             [
              0.5555555555555556,
              "#d8576b"
             ],
             [
              0.6666666666666666,
              "#ed7953"
             ],
             [
              0.7777777777777778,
              "#fb9f3a"
             ],
             [
              0.8888888888888888,
              "#fdca26"
             ],
             [
              1,
              "#f0f921"
             ]
            ],
            "type": "histogram2d"
           }
          ],
          "histogram2dcontour": [
           {
            "colorbar": {
             "outlinewidth": 0,
             "ticks": ""
            },
            "colorscale": [
             [
              0,
              "#0d0887"
             ],
             [
              0.1111111111111111,
              "#46039f"
             ],
             [
              0.2222222222222222,
              "#7201a8"
             ],
             [
              0.3333333333333333,
              "#9c179e"
             ],
             [
              0.4444444444444444,
              "#bd3786"
             ],
             [
              0.5555555555555556,
              "#d8576b"
             ],
             [
              0.6666666666666666,
              "#ed7953"
             ],
             [
              0.7777777777777778,
              "#fb9f3a"
             ],
             [
              0.8888888888888888,
              "#fdca26"
             ],
             [
              1,
              "#f0f921"
             ]
            ],
            "type": "histogram2dcontour"
           }
          ],
          "mesh3d": [
           {
            "colorbar": {
             "outlinewidth": 0,
             "ticks": ""
            },
            "type": "mesh3d"
           }
          ],
          "parcoords": [
           {
            "line": {
             "colorbar": {
              "outlinewidth": 0,
              "ticks": ""
             }
            },
            "type": "parcoords"
           }
          ],
          "pie": [
           {
            "automargin": true,
            "type": "pie"
           }
          ],
          "scatter": [
           {
            "fillpattern": {
             "fillmode": "overlay",
             "size": 10,
             "solidity": 0.2
            },
            "type": "scatter"
           }
          ],
          "scatter3d": [
           {
            "line": {
             "colorbar": {
              "outlinewidth": 0,
              "ticks": ""
             }
            },
            "marker": {
             "colorbar": {
              "outlinewidth": 0,
              "ticks": ""
             }
            },
            "type": "scatter3d"
           }
          ],
          "scattercarpet": [
           {
            "marker": {
             "colorbar": {
              "outlinewidth": 0,
              "ticks": ""
             }
            },
            "type": "scattercarpet"
           }
          ],
          "scattergeo": [
           {
            "marker": {
             "colorbar": {
              "outlinewidth": 0,
              "ticks": ""
             }
            },
            "type": "scattergeo"
           }
          ],
          "scattergl": [
           {
            "marker": {
             "colorbar": {
              "outlinewidth": 0,
              "ticks": ""
             }
            },
            "type": "scattergl"
           }
          ],
          "scattermapbox": [
           {
            "marker": {
             "colorbar": {
              "outlinewidth": 0,
              "ticks": ""
             }
            },
            "type": "scattermapbox"
           }
          ],
          "scatterpolar": [
           {
            "marker": {
             "colorbar": {
              "outlinewidth": 0,
              "ticks": ""
             }
            },
            "type": "scatterpolar"
           }
          ],
          "scatterpolargl": [
           {
            "marker": {
             "colorbar": {
              "outlinewidth": 0,
              "ticks": ""
             }
            },
            "type": "scatterpolargl"
           }
          ],
          "scatterternary": [
           {
            "marker": {
             "colorbar": {
              "outlinewidth": 0,
              "ticks": ""
             }
            },
            "type": "scatterternary"
           }
          ],
          "surface": [
           {
            "colorbar": {
             "outlinewidth": 0,
             "ticks": ""
            },
            "colorscale": [
             [
              0,
              "#0d0887"
             ],
             [
              0.1111111111111111,
              "#46039f"
             ],
             [
              0.2222222222222222,
              "#7201a8"
             ],
             [
              0.3333333333333333,
              "#9c179e"
             ],
             [
              0.4444444444444444,
              "#bd3786"
             ],
             [
              0.5555555555555556,
              "#d8576b"
             ],
             [
              0.6666666666666666,
              "#ed7953"
             ],
             [
              0.7777777777777778,
              "#fb9f3a"
             ],
             [
              0.8888888888888888,
              "#fdca26"
             ],
             [
              1,
              "#f0f921"
             ]
            ],
            "type": "surface"
           }
          ],
          "table": [
           {
            "cells": {
             "fill": {
              "color": "#EBF0F8"
             },
             "line": {
              "color": "white"
             }
            },
            "header": {
             "fill": {
              "color": "#C8D4E3"
             },
             "line": {
              "color": "white"
             }
            },
            "type": "table"
           }
          ]
         },
         "layout": {
          "annotationdefaults": {
           "arrowcolor": "#2a3f5f",
           "arrowhead": 0,
           "arrowwidth": 1
          },
          "autotypenumbers": "strict",
          "coloraxis": {
           "colorbar": {
            "outlinewidth": 0,
            "ticks": ""
           }
          },
          "colorscale": {
           "diverging": [
            [
             0,
             "#8e0152"
            ],
            [
             0.1,
             "#c51b7d"
            ],
            [
             0.2,
             "#de77ae"
            ],
            [
             0.3,
             "#f1b6da"
            ],
            [
             0.4,
             "#fde0ef"
            ],
            [
             0.5,
             "#f7f7f7"
            ],
            [
             0.6,
             "#e6f5d0"
            ],
            [
             0.7,
             "#b8e186"
            ],
            [
             0.8,
             "#7fbc41"
            ],
            [
             0.9,
             "#4d9221"
            ],
            [
             1,
             "#276419"
            ]
           ],
           "sequential": [
            [
             0,
             "#0d0887"
            ],
            [
             0.1111111111111111,
             "#46039f"
            ],
            [
             0.2222222222222222,
             "#7201a8"
            ],
            [
             0.3333333333333333,
             "#9c179e"
            ],
            [
             0.4444444444444444,
             "#bd3786"
            ],
            [
             0.5555555555555556,
             "#d8576b"
            ],
            [
             0.6666666666666666,
             "#ed7953"
            ],
            [
             0.7777777777777778,
             "#fb9f3a"
            ],
            [
             0.8888888888888888,
             "#fdca26"
            ],
            [
             1,
             "#f0f921"
            ]
           ],
           "sequentialminus": [
            [
             0,
             "#0d0887"
            ],
            [
             0.1111111111111111,
             "#46039f"
            ],
            [
             0.2222222222222222,
             "#7201a8"
            ],
            [
             0.3333333333333333,
             "#9c179e"
            ],
            [
             0.4444444444444444,
             "#bd3786"
            ],
            [
             0.5555555555555556,
             "#d8576b"
            ],
            [
             0.6666666666666666,
             "#ed7953"
            ],
            [
             0.7777777777777778,
             "#fb9f3a"
            ],
            [
             0.8888888888888888,
             "#fdca26"
            ],
            [
             1,
             "#f0f921"
            ]
           ]
          },
          "colorway": [
           "#636efa",
           "#EF553B",
           "#00cc96",
           "#ab63fa",
           "#FFA15A",
           "#19d3f3",
           "#FF6692",
           "#B6E880",
           "#FF97FF",
           "#FECB52"
          ],
          "font": {
           "color": "#2a3f5f"
          },
          "geo": {
           "bgcolor": "white",
           "lakecolor": "white",
           "landcolor": "#E5ECF6",
           "showlakes": true,
           "showland": true,
           "subunitcolor": "white"
          },
          "hoverlabel": {
           "align": "left"
          },
          "hovermode": "closest",
          "mapbox": {
           "style": "light"
          },
          "paper_bgcolor": "white",
          "plot_bgcolor": "#E5ECF6",
          "polar": {
           "angularaxis": {
            "gridcolor": "white",
            "linecolor": "white",
            "ticks": ""
           },
           "bgcolor": "#E5ECF6",
           "radialaxis": {
            "gridcolor": "white",
            "linecolor": "white",
            "ticks": ""
           }
          },
          "scene": {
           "xaxis": {
            "backgroundcolor": "#E5ECF6",
            "gridcolor": "white",
            "gridwidth": 2,
            "linecolor": "white",
            "showbackground": true,
            "ticks": "",
            "zerolinecolor": "white"
           },
           "yaxis": {
            "backgroundcolor": "#E5ECF6",
            "gridcolor": "white",
            "gridwidth": 2,
            "linecolor": "white",
            "showbackground": true,
            "ticks": "",
            "zerolinecolor": "white"
           },
           "zaxis": {
            "backgroundcolor": "#E5ECF6",
            "gridcolor": "white",
            "gridwidth": 2,
            "linecolor": "white",
            "showbackground": true,
            "ticks": "",
            "zerolinecolor": "white"
           }
          },
          "shapedefaults": {
           "line": {
            "color": "#2a3f5f"
           }
          },
          "ternary": {
           "aaxis": {
            "gridcolor": "white",
            "linecolor": "white",
            "ticks": ""
           },
           "baxis": {
            "gridcolor": "white",
            "linecolor": "white",
            "ticks": ""
           },
           "bgcolor": "#E5ECF6",
           "caxis": {
            "gridcolor": "white",
            "linecolor": "white",
            "ticks": ""
           }
          },
          "title": {
           "x": 0.05
          },
          "xaxis": {
           "automargin": true,
           "gridcolor": "white",
           "linecolor": "white",
           "ticks": "",
           "title": {
            "standoff": 15
           },
           "zerolinecolor": "white",
           "zerolinewidth": 2
          },
          "yaxis": {
           "automargin": true,
           "gridcolor": "white",
           "linecolor": "white",
           "ticks": "",
           "title": {
            "standoff": 15
           },
           "zerolinecolor": "white",
           "zerolinewidth": 2
          }
         }
        },
        "title": {
         "text": "Gantt Chart"
        },
        "width": 2000,
        "xaxis": {
         "rangeselector": {
          "buttons": [
           {
            "count": 7,
            "label": "1w",
            "step": "day",
            "stepmode": "backward"
           },
           {
            "count": 1,
            "label": "1m",
            "step": "month",
            "stepmode": "backward"
           },
           {
            "count": 6,
            "label": "6m",
            "step": "month",
            "stepmode": "backward"
           },
           {
            "count": 1,
            "label": "YTD",
            "step": "year",
            "stepmode": "todate"
           },
           {
            "count": 1,
            "label": "1y",
            "step": "year",
            "stepmode": "backward"
           },
           {
            "step": "all"
           }
          ]
         },
         "showgrid": false,
         "type": "date",
         "zeroline": false
        },
        "yaxis": {
         "autorange": false,
         "range": [
          -1,
          9
         ],
         "showgrid": false,
         "ticktext": [
          "Semana 21 – 25 Julio",
          "Semana 14 – 18 Julio",
          "Semana 07 – 11 Julio",
          "Semana 30 – 04 Julio",
          "Semana 23 – 26 Junio",
          "Semana 16 – 20 Junio",
          "Semana 09 – 13 Junio",
          "Semana 02 – 06 Junio"
         ],
         "tickvals": [
          0,
          1,
          2,
          3,
          4,
          5,
          6,
          7
         ],
         "zeroline": false
        }
       }
      }
     },
     "metadata": {},
     "output_type": "display_data"
    }
   ],
   "source": [
    "import plotly.figure_factory as ff\n",
    "\n",
    "df = [\n",
    "    dict(Task=\"Semana 02 – 06 Junio\", Start='2025-06-02', Finish='2025-06-08', Resource='Estandarizar Cartolas Bancarias'),\n",
    "    dict(Task=\"Semana 09 – 13 Junio\", Start='2025-06-09', Finish='2025-06-15', Resource='Cruce BBDD y Cartolas'),\n",
    "    dict(Task=\"Semana 16 – 20 Junio\", Start='2025-06-16', Finish='2025-06-22', Resource='Conciliación de cartolas bancarias con GPI y Dashboard de Racional'),\n",
    "    dict(Task=\"Semana 23 – 26 Junio\", Start='2025-06-23', Finish='2025-06-29', Resource='Incorporación del resto de las Fintech al proceso de conciliación'),\n",
    "    dict(Task=\"Semana 30 – 04 Julio\", Start='2025-06-30', Finish='2025-07-06', Resource='Continuación del proceso de incorporación de FinTech'),\n",
    "    dict(Task=\"Semana 07 – 11 Julio\", Start='2025-07-07', Finish='2025-07-13', Resource='Análisis de casos críticos detectados en los resultados de las conciliaciones'),\n",
    "    dict(Task=\"Semana 14 – 18 Julio\", Start='2025-07-14', Finish='2025-07-20', Resource='Entrega de reportes. Integración de código Python con visualización en Power BI'),\n",
    "    dict(Task=\"Semana 21 – 25 Julio\", Start='2025-07-21', Finish='2025-07-27', Resource='Integración con Power BI. Entrega de reportes. Toma de decisiones en base a resultados')\n",
    "]\n",
    "\n",
    "colors = [\n",
    "    'rgb(0, 102, 204)', 'rgb(0, 153, 255)', 'rgb(0, 204, 204)', 'rgb(102, 204, 102)',\n",
    "    'rgb(255, 204, 0)', 'rgb(255, 153, 51)', 'rgb(255, 102, 102)', 'rgb(204, 0, 102)'\n",
    "]\n",
    "\n",
    "resources = [item['Resource'] for item in df]\n",
    "color_map = dict(zip(resources, colors))\n",
    "\n",
    "fig = ff.create_gantt(df, colors=color_map, index_col='Resource', show_colorbar=True, group_tasks=True)\n",
    "\n",
    "# Reordenar manualmente los traces para que la leyenda siga el orden de 'resources'\n",
    "ordered_traces = []\n",
    "for resource in resources:\n",
    "    for trace in fig.data:\n",
    "        if trace.name == resource:\n",
    "            ordered_traces.append(trace)\n",
    "fig.data = tuple(ordered_traces)\n",
    "\n",
    "fig.update_layout(\n",
    "    width=2000,  # Aumenta el ancho\n",
    "    height=700,  # Aumenta el alto\n",
    "    font=dict(size=17),\n",
    "    legend=dict(\n",
    "        font=dict(size=18),  # Achica la leyenda\n",
    "        title_font=dict(size=16),\n",
    "        traceorder=\"normal\",\n",
    "        itemsizing='constant'\n",
    "    )\n",
    ")\n",
    "\n",
    "fig.show()"
   ]
  }
 ],
 "metadata": {
  "kernelspec": {
   "display_name": "base",
   "language": "python",
   "name": "python3"
  },
  "language_info": {
   "codemirror_mode": {
    "name": "ipython",
    "version": 3
   },
   "file_extension": ".py",
   "mimetype": "text/x-python",
   "name": "python",
   "nbconvert_exporter": "python",
   "pygments_lexer": "ipython3",
   "version": "3.11.7"
  }
 },
 "nbformat": 4,
 "nbformat_minor": 5
}
